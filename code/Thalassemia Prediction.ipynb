{
  "cells": [
    {
      "cell_type": "code",
      "execution_count": 7,
      "metadata": {
        "id": "-mUi_QaCKmPN"
      },
      "outputs": [],
      "source": [
        "# Tahap Requirements Analysis (Analisis Kebutuhan)\n",
        "# Importing Necessary Libraries\n",
        "import numpy as np \n",
        "import pandas as pd \n",
        "import matplotlib.pyplot as plt \n",
        "import seaborn as sns \n",
        "%matplotlib inline"
      ]
    },
    {
      "cell_type": "code",
      "execution_count": 12,
      "metadata": {
        "colab": {
          "base_uri": "https://localhost:8080/"
        },
        "id": "EWKp6N2olFvZ",
        "outputId": "07b2025b-0063-403a-942b-793b046bcde8"
      },
      "outputs": [
        {
          "name": "stdout",
          "output_type": "stream",
          "text": [
            "Rows (excluding the header) shuffled and saved to 'data.csv'.\n"
          ]
        }
      ],
      "source": [
        "import csv\n",
        "import random\n",
        "\n",
        "# Tahap Data Preparation (Persiapan Data)\n",
        "# Read the CSV file\n",
        "with open('C:/Users/fathi/OneDrive/Documents/Penulisan Ilmiah/Program/data/data_alphanorm.csv', 'r') as file:\n",
        "    reader = csv.reader(file)\n",
        "    rows = list(reader)\n",
        "\n",
        "# Separate header row and data rows\n",
        "header_row = rows[0]\n",
        "data_rows = rows[1:]\n",
        "\n",
        "# Shuffle the data rows\n",
        "random.shuffle(data_rows)\n",
        "\n",
        "# Combine header row and shuffled data rows\n",
        "shuffled_rows = [header_row] + data_rows\n",
        "\n",
        "# Write the shuffled rows to a new CSV file\n",
        "with open('data.csv', 'w', newline='') as file:\n",
        "    writer = csv.writer(file)\n",
        "    writer.writerows(shuffled_rows)\n",
        "\n",
        "print(\"Rows (excluding the header) shuffled and saved to 'data.csv'.\")"
      ]
    },
    {
      "cell_type": "code",
      "execution_count": 13,
      "metadata": {
        "colab": {
          "base_uri": "https://localhost:8080/",
          "height": 206
        },
        "id": "wYeGG3LRl3el",
        "outputId": "c49b4e9c-a8a4-49f5-a62c-da4d58d473f4"
      },
      "outputs": [
        {
          "data": {
            "text/html": [
              "<div>\n",
              "<style scoped>\n",
              "    .dataframe tbody tr th:only-of-type {\n",
              "        vertical-align: middle;\n",
              "    }\n",
              "\n",
              "    .dataframe tbody tr th {\n",
              "        vertical-align: top;\n",
              "    }\n",
              "\n",
              "    .dataframe thead th {\n",
              "        text-align: right;\n",
              "    }\n",
              "</style>\n",
              "<table border=\"1\" class=\"dataframe\">\n",
              "  <thead>\n",
              "    <tr style=\"text-align: right;\">\n",
              "      <th></th>\n",
              "      <th>sex</th>\n",
              "      <th>hb</th>\n",
              "      <th>hct</th>\n",
              "      <th>mcv</th>\n",
              "      <th>mch</th>\n",
              "      <th>mchc</th>\n",
              "      <th>rdw</th>\n",
              "      <th>rbc</th>\n",
              "      <th>phenotype</th>\n",
              "    </tr>\n",
              "  </thead>\n",
              "  <tbody>\n",
              "    <tr>\n",
              "      <th>0</th>\n",
              "      <td>female</td>\n",
              "      <td>10.6</td>\n",
              "      <td>34.0</td>\n",
              "      <td>72.0</td>\n",
              "      <td>23.0</td>\n",
              "      <td>31.0</td>\n",
              "      <td>15.0</td>\n",
              "      <td>4.72</td>\n",
              "      <td>alpha carrier</td>\n",
              "    </tr>\n",
              "    <tr>\n",
              "      <th>1</th>\n",
              "      <td>female</td>\n",
              "      <td>12.9</td>\n",
              "      <td>41.0</td>\n",
              "      <td>86.0</td>\n",
              "      <td>27.0</td>\n",
              "      <td>31.0</td>\n",
              "      <td>13.9</td>\n",
              "      <td>4.81</td>\n",
              "      <td>normal</td>\n",
              "    </tr>\n",
              "    <tr>\n",
              "      <th>2</th>\n",
              "      <td>male</td>\n",
              "      <td>11.5</td>\n",
              "      <td>34.0</td>\n",
              "      <td>87.0</td>\n",
              "      <td>30.0</td>\n",
              "      <td>34.0</td>\n",
              "      <td>12.7</td>\n",
              "      <td>3.89</td>\n",
              "      <td>normal</td>\n",
              "    </tr>\n",
              "    <tr>\n",
              "      <th>3</th>\n",
              "      <td>male</td>\n",
              "      <td>14.7</td>\n",
              "      <td>45.0</td>\n",
              "      <td>87.0</td>\n",
              "      <td>29.0</td>\n",
              "      <td>33.0</td>\n",
              "      <td>12.4</td>\n",
              "      <td>5.11</td>\n",
              "      <td>normal</td>\n",
              "    </tr>\n",
              "    <tr>\n",
              "      <th>4</th>\n",
              "      <td>female</td>\n",
              "      <td>12.6</td>\n",
              "      <td>38.3</td>\n",
              "      <td>80.0</td>\n",
              "      <td>26.5</td>\n",
              "      <td>33.0</td>\n",
              "      <td>12.6</td>\n",
              "      <td>4.76</td>\n",
              "      <td>alpha carrier</td>\n",
              "    </tr>\n",
              "  </tbody>\n",
              "</table>\n",
              "</div>"
            ],
            "text/plain": [
              "      sex    hb   hct   mcv   mch  mchc   rdw   rbc      phenotype\n",
              "0  female  10.6  34.0  72.0  23.0  31.0  15.0  4.72  alpha carrier\n",
              "1  female  12.9  41.0  86.0  27.0  31.0  13.9  4.81         normal\n",
              "2    male  11.5  34.0  87.0  30.0  34.0  12.7  3.89         normal\n",
              "3    male  14.7  45.0  87.0  29.0  33.0  12.4  5.11         normal\n",
              "4  female  12.6  38.3  80.0  26.5  33.0  12.6  4.76  alpha carrier"
            ]
          },
          "execution_count": 13,
          "metadata": {},
          "output_type": "execute_result"
        }
      ],
      "source": [
        "df = pd.read_csv('data.csv')\n",
        "df.head()"
      ]
    },
    {
      "cell_type": "code",
      "execution_count": 14,
      "metadata": {
        "colab": {
          "base_uri": "https://localhost:8080/"
        },
        "id": "-0sQ2n2fPz8t",
        "outputId": "71d95131-434b-4443-ad1e-527ca91a54b7"
      },
      "outputs": [
        {
          "data": {
            "text/plain": [
              "sex          0\n",
              "hb           1\n",
              "hct          0\n",
              "mcv          0\n",
              "mch          0\n",
              "mchc         0\n",
              "rdw          0\n",
              "rbc          0\n",
              "phenotype    0\n",
              "dtype: int64"
            ]
          },
          "execution_count": 14,
          "metadata": {},
          "output_type": "execute_result"
        }
      ],
      "source": [
        "# Tahap Data Preprocessing (Praproses Data)\n",
        "# Checking for null values\n",
        "df.isnull().sum()"
      ]
    },
    {
      "cell_type": "code",
      "execution_count": 16,
      "metadata": {
        "id": "jmworelkydpg"
      },
      "outputs": [],
      "source": [
        "df['hb'] = df['hb'].fillna(df['hb'].mode()[0])"
      ]
    },
    {
      "cell_type": "code",
      "execution_count": 17,
      "metadata": {
        "colab": {
          "base_uri": "https://localhost:8080/"
        },
        "id": "VoTdjvvjYUbg",
        "outputId": "bf644c2d-a1e1-4e28-f429-d4965a1306ed"
      },
      "outputs": [
        {
          "data": {
            "text/plain": [
              "sex          0\n",
              "hb           0\n",
              "hct          0\n",
              "mcv          0\n",
              "mch          0\n",
              "mchc         0\n",
              "rdw          0\n",
              "rbc          0\n",
              "phenotype    0\n",
              "dtype: int64"
            ]
          },
          "execution_count": 17,
          "metadata": {},
          "output_type": "execute_result"
        }
      ],
      "source": [
        "# Checking for null values\n",
        "df.isnull().sum()"
      ]
    },
    {
      "cell_type": "code",
      "execution_count": 70,
      "metadata": {
        "id": "6olIRmwzaqkg"
      },
      "outputs": [],
      "source": [
        "\n",
        "from sklearn.preprocessing import LabelEncoder\n",
        "\n",
        "le = LabelEncoder()\n",
        "\n",
        "cols = ['sex','phenotype']\n",
        "\n",
        "# Encode labels of multiple columns at once\n",
        "df[cols] = df[cols].apply(le.fit_transform)"
      ]
    },
    {
      "cell_type": "code",
      "execution_count": 71,
      "metadata": {
        "colab": {
          "base_uri": "https://localhost:8080/",
          "height": 206
        },
        "id": "s-nUna6AzdOP",
        "outputId": "276d27f9-5b6b-411f-b74c-7fc144de82f3"
      },
      "outputs": [
        {
          "data": {
            "text/html": [
              "<div>\n",
              "<style scoped>\n",
              "    .dataframe tbody tr th:only-of-type {\n",
              "        vertical-align: middle;\n",
              "    }\n",
              "\n",
              "    .dataframe tbody tr th {\n",
              "        vertical-align: top;\n",
              "    }\n",
              "\n",
              "    .dataframe thead th {\n",
              "        text-align: right;\n",
              "    }\n",
              "</style>\n",
              "<table border=\"1\" class=\"dataframe\">\n",
              "  <thead>\n",
              "    <tr style=\"text-align: right;\">\n",
              "      <th></th>\n",
              "      <th>sex</th>\n",
              "      <th>hb</th>\n",
              "      <th>hct</th>\n",
              "      <th>mcv</th>\n",
              "      <th>mch</th>\n",
              "      <th>mchc</th>\n",
              "      <th>rdw</th>\n",
              "      <th>rbc</th>\n",
              "      <th>phenotype</th>\n",
              "    </tr>\n",
              "  </thead>\n",
              "  <tbody>\n",
              "    <tr>\n",
              "      <th>0</th>\n",
              "      <td>1</td>\n",
              "      <td>12.5</td>\n",
              "      <td>40.0</td>\n",
              "      <td>65.0</td>\n",
              "      <td>21.0</td>\n",
              "      <td>32.0</td>\n",
              "      <td>17.1</td>\n",
              "      <td>6.10</td>\n",
              "      <td>0</td>\n",
              "    </tr>\n",
              "    <tr>\n",
              "      <th>1</th>\n",
              "      <td>0</td>\n",
              "      <td>12.1</td>\n",
              "      <td>38.0</td>\n",
              "      <td>66.7</td>\n",
              "      <td>21.2</td>\n",
              "      <td>31.8</td>\n",
              "      <td>16.4</td>\n",
              "      <td>5.70</td>\n",
              "      <td>0</td>\n",
              "    </tr>\n",
              "    <tr>\n",
              "      <th>2</th>\n",
              "      <td>0</td>\n",
              "      <td>12.7</td>\n",
              "      <td>38.0</td>\n",
              "      <td>87.0</td>\n",
              "      <td>29.0</td>\n",
              "      <td>34.0</td>\n",
              "      <td>13.1</td>\n",
              "      <td>4.32</td>\n",
              "      <td>1</td>\n",
              "    </tr>\n",
              "    <tr>\n",
              "      <th>3</th>\n",
              "      <td>0</td>\n",
              "      <td>10.5</td>\n",
              "      <td>31.6</td>\n",
              "      <td>70.1</td>\n",
              "      <td>23.3</td>\n",
              "      <td>33.2</td>\n",
              "      <td>16.9</td>\n",
              "      <td>4.51</td>\n",
              "      <td>0</td>\n",
              "    </tr>\n",
              "    <tr>\n",
              "      <th>4</th>\n",
              "      <td>1</td>\n",
              "      <td>14.6</td>\n",
              "      <td>46.6</td>\n",
              "      <td>67.0</td>\n",
              "      <td>21.0</td>\n",
              "      <td>31.3</td>\n",
              "      <td>18.4</td>\n",
              "      <td>6.96</td>\n",
              "      <td>0</td>\n",
              "    </tr>\n",
              "  </tbody>\n",
              "</table>\n",
              "</div>"
            ],
            "text/plain": [
              "   sex    hb   hct   mcv   mch  mchc   rdw   rbc  phenotype\n",
              "0    1  12.5  40.0  65.0  21.0  32.0  17.1  6.10          0\n",
              "1    0  12.1  38.0  66.7  21.2  31.8  16.4  5.70          0\n",
              "2    0  12.7  38.0  87.0  29.0  34.0  13.1  4.32          1\n",
              "3    0  10.5  31.6  70.1  23.3  33.2  16.9  4.51          0\n",
              "4    1  14.6  46.6  67.0  21.0  31.3  18.4  6.96          0"
            ]
          },
          "execution_count": 71,
          "metadata": {},
          "output_type": "execute_result"
        }
      ],
      "source": [
        "df.head()"
      ]
    },
    {
      "cell_type": "code",
      "execution_count": 72,
      "metadata": {
        "colab": {
          "base_uri": "https://localhost:8080/"
        },
        "id": "Ije2E0zrK3q3",
        "outputId": "414ac63b-254b-46dd-969e-3912b01878cf"
      },
      "outputs": [],
      "source": [
        "from sklearn.preprocessing import MinMaxScaler\n",
        "\n",
        "# Create an instance of MinMaxScaler\n",
        "scaler = MinMaxScaler()\n",
        "\n",
        "# Get the label column\n",
        "label_column = df.iloc[:, -1]\n",
        "\n",
        "# Normalize all columns except the last column\n",
        "df_normalized = df.iloc[:, :-1].copy()"
      ]
    },
    {
      "cell_type": "code",
      "execution_count": 73,
      "metadata": {},
      "outputs": [],
      "source": [
        "scaler = MinMaxScaler()\n",
        "df_normalized = pd.DataFrame(scaler.fit_transform(df.iloc[:, :-1]), columns=df.columns[:-1])\n",
        "\n",
        "# Add the label column back to the normalized dataframe\n",
        "df_normalized = pd.concat([df_normalized, label_column], axis=1)"
      ]
    },
    {
      "cell_type": "code",
      "execution_count": 74,
      "metadata": {
        "colab": {
          "base_uri": "https://localhost:8080/",
          "height": 206
        },
        "id": "PD5NPfN3b0Rg",
        "outputId": "2f732743-566c-4fe4-c777-6b4101d214ce"
      },
      "outputs": [
        {
          "data": {
            "text/html": [
              "<div>\n",
              "<style scoped>\n",
              "    .dataframe tbody tr th:only-of-type {\n",
              "        vertical-align: middle;\n",
              "    }\n",
              "\n",
              "    .dataframe tbody tr th {\n",
              "        vertical-align: top;\n",
              "    }\n",
              "\n",
              "    .dataframe thead th {\n",
              "        text-align: right;\n",
              "    }\n",
              "</style>\n",
              "<table border=\"1\" class=\"dataframe\">\n",
              "  <thead>\n",
              "    <tr style=\"text-align: right;\">\n",
              "      <th></th>\n",
              "      <th>sex</th>\n",
              "      <th>hb</th>\n",
              "      <th>hct</th>\n",
              "      <th>mcv</th>\n",
              "      <th>mch</th>\n",
              "      <th>mchc</th>\n",
              "      <th>rdw</th>\n",
              "      <th>rbc</th>\n",
              "      <th>phenotype</th>\n",
              "    </tr>\n",
              "  </thead>\n",
              "  <tbody>\n",
              "    <tr>\n",
              "      <th>0</th>\n",
              "      <td>1.0</td>\n",
              "      <td>0.423913</td>\n",
              "      <td>0.484127</td>\n",
              "      <td>0.270833</td>\n",
              "      <td>0.277778</td>\n",
              "      <td>0.089636</td>\n",
              "      <td>0.401316</td>\n",
              "      <td>0.152249</td>\n",
              "      <td>0</td>\n",
              "    </tr>\n",
              "    <tr>\n",
              "      <th>1</th>\n",
              "      <td>0.0</td>\n",
              "      <td>0.380435</td>\n",
              "      <td>0.404762</td>\n",
              "      <td>0.306250</td>\n",
              "      <td>0.288889</td>\n",
              "      <td>0.084034</td>\n",
              "      <td>0.355263</td>\n",
              "      <td>0.129181</td>\n",
              "      <td>0</td>\n",
              "    </tr>\n",
              "    <tr>\n",
              "      <th>2</th>\n",
              "      <td>0.0</td>\n",
              "      <td>0.445652</td>\n",
              "      <td>0.404762</td>\n",
              "      <td>0.729167</td>\n",
              "      <td>0.722222</td>\n",
              "      <td>0.145658</td>\n",
              "      <td>0.138158</td>\n",
              "      <td>0.049596</td>\n",
              "      <td>1</td>\n",
              "    </tr>\n",
              "    <tr>\n",
              "      <th>3</th>\n",
              "      <td>0.0</td>\n",
              "      <td>0.206522</td>\n",
              "      <td>0.150794</td>\n",
              "      <td>0.377083</td>\n",
              "      <td>0.405556</td>\n",
              "      <td>0.123249</td>\n",
              "      <td>0.388158</td>\n",
              "      <td>0.060554</td>\n",
              "      <td>0</td>\n",
              "    </tr>\n",
              "    <tr>\n",
              "      <th>4</th>\n",
              "      <td>1.0</td>\n",
              "      <td>0.652174</td>\n",
              "      <td>0.746032</td>\n",
              "      <td>0.312500</td>\n",
              "      <td>0.277778</td>\n",
              "      <td>0.070028</td>\n",
              "      <td>0.486842</td>\n",
              "      <td>0.201845</td>\n",
              "      <td>0</td>\n",
              "    </tr>\n",
              "  </tbody>\n",
              "</table>\n",
              "</div>"
            ],
            "text/plain": [
              "   sex        hb       hct       mcv       mch      mchc       rdw       rbc  \\\n",
              "0  1.0  0.423913  0.484127  0.270833  0.277778  0.089636  0.401316  0.152249   \n",
              "1  0.0  0.380435  0.404762  0.306250  0.288889  0.084034  0.355263  0.129181   \n",
              "2  0.0  0.445652  0.404762  0.729167  0.722222  0.145658  0.138158  0.049596   \n",
              "3  0.0  0.206522  0.150794  0.377083  0.405556  0.123249  0.388158  0.060554   \n",
              "4  1.0  0.652174  0.746032  0.312500  0.277778  0.070028  0.486842  0.201845   \n",
              "\n",
              "   phenotype  \n",
              "0          0  \n",
              "1          0  \n",
              "2          1  \n",
              "3          0  \n",
              "4          0  "
            ]
          },
          "execution_count": 74,
          "metadata": {},
          "output_type": "execute_result"
        }
      ],
      "source": [
        "df_normalized.head()"
      ]
    },
    {
      "cell_type": "code",
      "execution_count": 75,
      "metadata": {
        "colab": {
          "base_uri": "https://localhost:8080/"
        },
        "id": "VuP8UAnqcOcO",
        "outputId": "3d500287-7d65-4abb-aedc-a349cfcb12f5"
      },
      "outputs": [
        {
          "data": {
            "text/plain": [
              "(594, 8)"
            ]
          },
          "execution_count": 75,
          "metadata": {},
          "output_type": "execute_result"
        }
      ],
      "source": [
        "y = df['phenotype']\n",
        "x = df.iloc[:,:-1]\n",
        "x.shape"
      ]
    },
    {
      "cell_type": "code",
      "execution_count": 76,
      "metadata": {
        "id": "wBFN8VuUhxRU"
      },
      "outputs": [],
      "source": [
        "# Split data in to train and test \n",
        "from sklearn.model_selection import train_test_split\n",
        "x_train, x_test, y_train, y_test = train_test_split(x, y, test_size=0.2, random_state=1)"
      ]
    },
    {
      "cell_type": "code",
      "execution_count": 77,
      "metadata": {
        "colab": {
          "base_uri": "https://localhost:8080/"
        },
        "id": "7O_N43t9O95C",
        "outputId": "533169b4-9af8-45bb-a67f-a190e2ceea37"
      },
      "outputs": [
        {
          "data": {
            "text/plain": [
              "(119, 8)"
            ]
          },
          "execution_count": 77,
          "metadata": {},
          "output_type": "execute_result"
        }
      ],
      "source": [
        "x_test.shape"
      ]
    },
    {
      "cell_type": "code",
      "execution_count": 78,
      "metadata": {
        "colab": {
          "base_uri": "https://localhost:8080/"
        },
        "id": "fi07bRNdjFRM",
        "outputId": "0d58b798-c4ec-4252-8d7a-9b48ce3f91b6"
      },
      "outputs": [
        {
          "name": "stdout",
          "output_type": "stream",
          "text": [
            "Model accuracy : 0.874\n"
          ]
        }
      ],
      "source": [
        "# Tahap Model Building (Pembangunan Model)\n",
        "# Apply SVM Model\n",
        "from sklearn import svm\n",
        "from sklearn.metrics import accuracy_score\n",
        "\n",
        "classifier=svm.SVC(kernel = 'linear', gamma ='auto', C=2) \n",
        "classifier.fit(x_train, y_train)\n",
        "y_pred=classifier.predict(x_test)\n",
        "print('Model accuracy : {0:0.3f}'. format(accuracy_score(y_test, y_pred)))"
      ]
    },
    {
      "cell_type": "code",
      "execution_count": 79,
      "metadata": {
        "colab": {
          "base_uri": "https://localhost:8080/",
          "height": 448
        },
        "id": "zFaXtJZmE3Go",
        "outputId": "a8950e25-0486-4a4c-db4d-946d83b8b07e"
      },
      "outputs": [
        {
          "data": {
            "text/plain": [
              "<AxesSubplot:>"
            ]
          },
          "execution_count": 79,
          "metadata": {},
          "output_type": "execute_result"
        },
        {
          "data": {
            "image/png": "[encoded data removed]",
            "text/plain": [
              "<Figure size 432x288 with 2 Axes>"
            ]
          },
          "metadata": {
            "needs_background": "light"
          },
          "output_type": "display_data"
        }
      ],
      "source": [
        "# Tahap Model Testing (Pengujian Model)\n",
        "from sklearn.metrics import confusion_matrix\n",
        "cm = confusion_matrix(y_test, y_pred)\n",
        "cm_matrix = pd.DataFrame(data=cm, columns=['Actual Positive:1', 'Actual Negative:0'], \n",
        "                                 index=['Predict Positive:1', 'Predict Negative:0'])\n",
        "\n",
        "sns.heatmap(cm_matrix, annot=True, fmt='d', cmap='mako')"
      ]
    },
    {
      "cell_type": "code",
      "execution_count": 80,
      "metadata": {
        "id": "t5SwqXdgRNDE"
      },
      "outputs": [],
      "source": [
        "# Tahap Hyperparameter Tuning (Pemilihan Hiperparameter)\n",
        "param_grid = {\n",
        "    'C': [0.1, 1, 2, 10],\n",
        "    'kernel': ['linear', 'rbf', 'poly'],\n",
        "    'gamma': ['scale', 'auto']\n",
        "}"
      ]
    },
    {
      "cell_type": "code",
      "execution_count": 81,
      "metadata": {
        "colab": {
          "base_uri": "https://localhost:8080/",
          "height": 374
        },
        "id": "lzCwbu4uRePc",
        "outputId": "84848ccd-93ac-46b1-8de4-4e27d95f2aef"
      },
      "outputs": [
        {
          "data": {
            "text/plain": [
              "GridSearchCV(cv=5, estimator=SVC(),\n",
              "             param_grid={'C': [0.1, 1, 2, 10], 'gamma': ['scale', 'auto'],\n",
              "                         'kernel': ['linear', 'rbf', 'poly']})"
            ]
          },
          "execution_count": 81,
          "metadata": {},
          "output_type": "execute_result"
        }
      ],
      "source": [
        "from sklearn.model_selection import GridSearchCV\n",
        "classifier = svm.SVC()\n",
        "grid_search = GridSearchCV(classifier, param_grid, cv=5)\n",
        "grid_search.fit(x_train, y_train)"
      ]
    },
    {
      "cell_type": "code",
      "execution_count": 82,
      "metadata": {
        "id": "uKScjE-fRlTv"
      },
      "outputs": [],
      "source": [
        "best_params = grid_search.best_params_\n",
        "best_model = grid_search.best_estimator_"
      ]
    },
    {
      "cell_type": "code",
      "execution_count": 83,
      "metadata": {
        "id": "Ei1-atB1Rqo0"
      },
      "outputs": [],
      "source": [
        "y_pred = best_model.predict(x_test)"
      ]
    },
    {
      "cell_type": "code",
      "execution_count": 84,
      "metadata": {
        "colab": {
          "base_uri": "https://localhost:8080/"
        },
        "id": "MFCbzRnLRvT-",
        "outputId": "abaed06d-602b-4624-f229-7f7ca55a7126"
      },
      "outputs": [
        {
          "name": "stdout",
          "output_type": "stream",
          "text": [
            "Accuracy: 0.8739495798319328\n"
          ]
        }
      ],
      "source": [
        "accuracy = accuracy_score(y_test, y_pred)\n",
        "print(\"Accuracy:\", accuracy)"
      ]
    }
  ],
  "metadata": {
    "colab": {
      "provenance": []
    },
    "kernelspec": {
      "display_name": "Python 3",
      "name": "python3"
    },
    "language_info": {
      "codemirror_mode": {
        "name": "ipython",
        "version": 3
      },
      "file_extension": ".py",
      "mimetype": "text/x-python",
      "name": "python",
      "nbconvert_exporter": "python",
      "pygments_lexer": "ipython3",
      "version": "3.8.8"
    }
  },
  "nbformat": 4,
  "nbformat_minor": 0
}
